{
 "cells": [
  {
   "cell_type": "code",
   "execution_count": 1,
   "metadata": {
    "collapsed": false
   },
   "outputs": [],
   "source": [
    "import mavlinkplug\n",
    "from mavlinkplug.QuadCopter import QuadCopter\n",
    "from mavlinkplug.Hil import Hil"
   ]
  },
  {
   "cell_type": "code",
   "execution_count": 2,
   "metadata": {
    "collapsed": false
   },
   "outputs": [
    {
     "name": "stdout",
     "output_type": "stream",
     "text": [
      "Initialising Plug\n"
     ]
    }
   ],
   "source": [
    "plug = mavlinkplug.Plug()"
   ]
  },
  {
   "cell_type": "code",
   "execution_count": 3,
   "metadata": {
    "collapsed": false
   },
   "outputs": [],
   "source": [
    "hil_test = Hil(QuadCopter, plug, None)"
   ]
  },
  {
   "cell_type": "code",
   "execution_count": 4,
   "metadata": {
    "collapsed": false
   },
   "outputs": [
    {
     "data": {
      "text/plain": [
       "{'_args': (),\n",
       " '_authkey': '\\xf0LC\\xe5\\x9d\\x93\\xe1\\xb6\\xa2p&\\xa1\\x98\\x1f\\x12Yay\\x9e\\xe3B$\\x9b)\\x1d\\x80\\xea\\xc6>\\xe7l\\x93',\n",
       " '_daemonic': False,\n",
       " '_identity': (1,),\n",
       " '_kwargs': {},\n",
       " '_loop': None,\n",
       " '_name': 'Hil-1',\n",
       " '_parent_pid': 2916,\n",
       " '_popen': None,\n",
       " '_target': None,\n",
       " '_tempdir': None,\n",
       " '_zmq_context': <zmq.sugar.context.Context at 0x2961e70>}"
      ]
     },
     "execution_count": 4,
     "metadata": {},
     "output_type": "execute_result"
    }
   ],
   "source": [
    "hil_test.__dict__"
   ]
  },
  {
   "cell_type": "code",
   "execution_count": 5,
   "metadata": {
    "collapsed": false
   },
   "outputs": [],
   "source": [
    "#hil_test.FL_initialize()"
   ]
  },
  {
   "cell_type": "code",
   "execution_count": 5,
   "metadata": {
    "collapsed": false
   },
   "outputs": [],
   "source": [
    "hil_test.start()"
   ]
  },
  {
   "cell_type": "code",
   "execution_count": null,
   "metadata": {
    "collapsed": true
   },
   "outputs": [],
   "source": []
  }
 ],
 "metadata": {
  "kernelspec": {
   "display_name": "Python 2",
   "language": "python",
   "name": "python2"
  },
  "language_info": {
   "codemirror_mode": {
    "name": "ipython",
    "version": 2
   },
   "file_extension": ".py",
   "mimetype": "text/x-python",
   "name": "python",
   "nbconvert_exporter": "python",
   "pygments_lexer": "ipython2",
   "version": "2.7.8"
  }
 },
 "nbformat": 4,
 "nbformat_minor": 0
}
