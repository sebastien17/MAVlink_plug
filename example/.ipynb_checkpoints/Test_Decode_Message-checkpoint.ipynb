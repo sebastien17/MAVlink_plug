{
 "cells": [
  {
   "cell_type": "code",
   "execution_count": 1,
   "metadata": {
    "collapsed": false
   },
   "outputs": [],
   "source": [
    "import pymavlink.dialects.v10.pixhawk as mavlink\n",
    "import struct"
   ]
  },
  {
   "cell_type": "code",
   "execution_count": 2,
   "metadata": {
    "collapsed": true
   },
   "outputs": [],
   "source": [
    "class fifo(object):\n",
    "    def __init__(self):\n",
    "        self.buf = []\n",
    "    def write(self, data):\n",
    "        self.buf += data\n",
    "        return len(data)\n",
    "    def read(self):\n",
    "        return self.buf.pop(0)\n",
    "f = fifo() "
   ]
  },
  {
   "cell_type": "code",
   "execution_count": 4,
   "metadata": {
    "collapsed": false
   },
   "outputs": [],
   "source": [
    "mav = mavlink.MAVLink(f)"
   ]
  },
  {
   "cell_type": "code",
   "execution_count": 5,
   "metadata": {
    "collapsed": false
   },
   "outputs": [
    {
     "data": {
      "text/plain": [
       "<pymavlink.dialects.v10.pixhawk.MAVLink at 0x35c1bf0>"
      ]
     },
     "execution_count": 5,
     "metadata": {},
     "output_type": "execute_result"
    }
   ],
   "source": [
    "mav"
   ]
  },
  {
   "cell_type": "code",
   "execution_count": 4,
   "metadata": {
    "collapsed": false
   },
   "outputs": [],
   "source": [
    "m = mav.param_set_encode(7, 1, \"WP_RADIUS\", 101, mavlink.MAV_PARAM_TYPE_REAL32)"
   ]
  },
  {
   "cell_type": "code",
   "execution_count": 5,
   "metadata": {
    "collapsed": false
   },
   "outputs": [
    {
     "data": {
      "text/plain": [
       "{'_crc': None,\n",
       " '_fieldnames': ['target_system',\n",
       "  'target_component',\n",
       "  'param_id',\n",
       "  'param_value',\n",
       "  'param_type'],\n",
       " '_header': <pymavlink.dialects.v10.pixhawk.MAVLink_header at 0x33c4690>,\n",
       " '_msgbuf': None,\n",
       " '_payload': None,\n",
       " '_type': 'PARAM_SET',\n",
       " 'param_id': 'WP_RADIUS',\n",
       " 'param_type': 9,\n",
       " 'param_value': 101,\n",
       " 'target_component': 1,\n",
       " 'target_system': 7}"
      ]
     },
     "execution_count": 5,
     "metadata": {},
     "output_type": "execute_result"
    }
   ],
   "source": [
    "m.__dict__"
   ]
  },
  {
   "cell_type": "code",
   "execution_count": 6,
   "metadata": {
    "collapsed": false
   },
   "outputs": [],
   "source": [
    "b = m.pack(mav)"
   ]
  },
  {
   "cell_type": "code",
   "execution_count": 7,
   "metadata": {
    "collapsed": false
   },
   "outputs": [
    {
     "data": {
      "text/plain": [
       "'\\xfe\\x17\\x00\\x00\\x00\\x17\\x00\\x00\\xcaB\\x07\\x01WP_RADIUS\\x00\\x00\\x00\\x00\\x00\\x00\\x00\\t\\xb1\\xf3'"
      ]
     },
     "execution_count": 7,
     "metadata": {},
     "output_type": "execute_result"
    }
   ],
   "source": [
    "b"
   ]
  },
  {
   "cell_type": "code",
   "execution_count": 13,
   "metadata": {
    "collapsed": false
   },
   "outputs": [
    {
     "data": {
      "text/plain": [
       "'\\x17\\x00\\x00\\x00\\x17\\x00\\x00\\xcaB\\x07\\x01WP_RADIUS\\x00\\x00\\x00\\x00\\x00\\x00\\x00\\t'"
      ]
     },
     "execution_count": 13,
     "metadata": {},
     "output_type": "execute_result"
    }
   ],
   "source": [
    "_crcbuf = b[1:-2]\n",
    "_crcbuf"
   ]
  },
  {
   "cell_type": "code",
   "execution_count": 14,
   "metadata": {
    "collapsed": false
   },
   "outputs": [
    {
     "data": {
      "text/plain": [
       "'\\x17\\x00\\x00\\x00\\x17\\x00\\x00\\xcaB\\x07\\x01WP_RADIUS\\x00\\x00\\x00\\x00\\x00\\x00\\x00\\t\\xa8'"
      ]
     },
     "execution_count": 14,
     "metadata": {},
     "output_type": "execute_result"
    }
   ],
   "source": [
    "_crcbuf = _crcbuf + struct.pack('B', 168)\n",
    "_crcbuf"
   ]
  },
  {
   "cell_type": "code",
   "execution_count": 15,
   "metadata": {
    "collapsed": false
   },
   "outputs": [],
   "source": [
    "m2 = mav.decode(b)"
   ]
  },
  {
   "cell_type": "code",
   "execution_count": 17,
   "metadata": {
    "collapsed": false
   },
   "outputs": [
    {
     "data": {
      "text/plain": [
       "{'_crc': 62385,\n",
       " '_fieldnames': ['target_system',\n",
       "  'target_component',\n",
       "  'param_id',\n",
       "  'param_value',\n",
       "  'param_type'],\n",
       " '_header': <pymavlink.dialects.v10.pixhawk.MAVLink_header at 0x34c4b30>,\n",
       " '_msgbuf': '\\xfe\\x17\\x00\\x00\\x00\\x17\\x00\\x00\\xcaB\\x07\\x01WP_RADIUS\\x00\\x00\\x00\\x00\\x00\\x00\\x00\\t\\xb1\\xf3',\n",
       " '_payload': '\\x00\\x00\\xcaB\\x07\\x01WP_RADIUS\\x00\\x00\\x00\\x00\\x00\\x00\\x00\\t',\n",
       " '_type': 'PARAM_SET',\n",
       " 'param_id': 'WP_RADIUS',\n",
       " 'param_type': 9,\n",
       " 'param_value': 101.0,\n",
       " 'target_component': 1,\n",
       " 'target_system': 7}"
      ]
     },
     "execution_count": 17,
     "metadata": {},
     "output_type": "execute_result"
    }
   ],
   "source": [
    "m2.__dict__"
   ]
  },
  {
   "cell_type": "code",
   "execution_count": null,
   "metadata": {
    "collapsed": true
   },
   "outputs": [],
   "source": [
    "struct.pack()"
   ]
  }
 ],
 "metadata": {
  "kernelspec": {
   "display_name": "Python 2",
   "language": "python",
   "name": "python2"
  },
  "language_info": {
   "codemirror_mode": {
    "name": "ipython",
    "version": 2
   },
   "file_extension": ".py",
   "mimetype": "text/x-python",
   "name": "python",
   "nbconvert_exporter": "python",
   "pygments_lexer": "ipython2",
   "version": "2.7.9"
  }
 },
 "nbformat": 4,
 "nbformat_minor": 0
}
