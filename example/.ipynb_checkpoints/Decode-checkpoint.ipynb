{
 "cells": [
  {
   "cell_type": "code",
   "execution_count": 1,
   "metadata": {
    "collapsed": false
   },
   "outputs": [],
   "source": [
    "import pymavlink.dialects.v10.pixhawk as mavlink\n",
    "import struct"
   ]
  },
  {
   "cell_type": "code",
   "execution_count": 2,
   "metadata": {
    "collapsed": true
   },
   "outputs": [],
   "source": [
    "class fifo(object):\n",
    "    def __init__(self):\n",
    "        self.buf = []\n",
    "    def write(self, data):\n",
    "        self.buf += data\n",
    "        return len(data)\n",
    "    def read(self):\n",
    "        return self.buf.pop(0)\n",
    "f = fifo() "
   ]
  },
  {
   "cell_type": "code",
   "execution_count": 3,
   "metadata": {
    "collapsed": false
   },
   "outputs": [],
   "source": [
    "mav = mavlink.MAVLink(f)"
   ]
  },
  {
   "cell_type": "code",
   "execution_count": 4,
   "metadata": {
    "collapsed": false
   },
   "outputs": [],
   "source": [
    "m = mav.param_set_encode(7, 1, \"WP_RADIUS\", 101, mavlink.MAV_PARAM_TYPE_REAL32)"
   ]
  },
  {
   "cell_type": "code",
   "execution_count": 5,
   "metadata": {
    "collapsed": false
   },
   "outputs": [
    {
     "data": {
      "text/plain": [
       "{'_crc': None,\n",
       " '_fieldnames': ['target_system',\n",
       "  'target_component',\n",
       "  'param_id',\n",
       "  'param_value',\n",
       "  'param_type'],\n",
       " '_header': <pymavlink.dialects.v10.pixhawk.MAVLink_header at 0x54e96b0>,\n",
       " '_msgbuf': None,\n",
       " '_payload': None,\n",
       " '_type': 'PARAM_SET',\n",
       " 'param_id': 'WP_RADIUS',\n",
       " 'param_type': 9,\n",
       " 'param_value': 101,\n",
       " 'target_component': 1,\n",
       " 'target_system': 7}"
      ]
     },
     "execution_count": 5,
     "metadata": {},
     "output_type": "execute_result"
    }
   ],
   "source": [
    "m.__dict__"
   ]
  },
  {
   "cell_type": "code",
   "execution_count": 6,
   "metadata": {
    "collapsed": false
   },
   "outputs": [],
   "source": [
    "b = m.pack(mav)"
   ]
  },
  {
   "cell_type": "code",
   "execution_count": 7,
   "metadata": {
    "collapsed": false
   },
   "outputs": [
    {
     "data": {
      "text/plain": [
       "'\\xfe\\x17\\x00\\x00\\x00\\x17\\x00\\x00\\xcaB\\x07\\x01WP_RADIUS\\x00\\x00\\x00\\x00\\x00\\x00\\x00\\t\\xb1\\xf3'"
      ]
     },
     "execution_count": 7,
     "metadata": {},
     "output_type": "execute_result"
    }
   ],
   "source": [
    "b"
   ]
  },
  {
   "cell_type": "code",
   "execution_count": 10,
   "metadata": {
    "collapsed": false
   },
   "outputs": [
    {
     "data": {
      "text/plain": [
       "'\\x17\\x00\\x00\\x00\\x17\\x00\\x00\\xcaB\\x07\\x01WP_RADIUS\\x00\\x00\\x00\\x00\\x00\\x00\\x00\\t'"
      ]
     },
     "execution_count": 10,
     "metadata": {},
     "output_type": "execute_result"
    }
   ],
   "source": [
    "_crcbuf = b[1:-2]\n",
    "_crcbuf"
   ]
  },
  {
   "cell_type": "code",
   "execution_count": 11,
   "metadata": {
    "collapsed": false
   },
   "outputs": [
    {
     "ename": "NameError",
     "evalue": "name 'struct' is not defined",
     "output_type": "error",
     "traceback": [
      "\u001b[1;31m---------------------------------------------------------------------------\u001b[0m",
      "\u001b[1;31mNameError\u001b[0m                                 Traceback (most recent call last)",
      "\u001b[1;32m<ipython-input-11-9fdad10a05cf>\u001b[0m in \u001b[0;36m<module>\u001b[1;34m()\u001b[0m\n\u001b[1;32m----> 1\u001b[1;33m \u001b[0m_crcbuf\u001b[0m \u001b[1;33m=\u001b[0m \u001b[0m_crcbuf\u001b[0m \u001b[1;33m+\u001b[0m \u001b[0mstruct\u001b[0m\u001b[1;33m.\u001b[0m\u001b[0mpack\u001b[0m\u001b[1;33m(\u001b[0m\u001b[1;34m'B'\u001b[0m\u001b[1;33m,\u001b[0m \u001b[0mcrc_extra\u001b[0m\u001b[1;33m)\u001b[0m\u001b[1;33m\u001b[0m\u001b[0m\n\u001b[0m",
      "\u001b[1;31mNameError\u001b[0m: name 'struct' is not defined"
     ]
    }
   ],
   "source": [
    "_crcbuf = _crcbuf + struct.pack('B', crc_extra)"
   ]
  },
  {
   "cell_type": "code",
   "execution_count": null,
   "metadata": {
    "collapsed": true
   },
   "outputs": [],
   "source": []
  },
  {
   "cell_type": "code",
   "execution_count": null,
   "metadata": {
    "collapsed": true
   },
   "outputs": [],
   "source": []
  },
  {
   "cell_type": "code",
   "execution_count": 8,
   "metadata": {
    "collapsed": false
   },
   "outputs": [
    {
     "name": "stdout",
     "output_type": "stream",
     "text": [
      "crc extra :168\n"
     ]
    },
    {
     "ename": "MAVError",
     "evalue": "invalid MAVLink CRC in msgID 23 0xf3b1 should be 0x6d21",
     "output_type": "error",
     "traceback": [
      "\u001b[1;31m---------------------------------------------------------------------------\u001b[0m",
      "\u001b[1;31mMAVError\u001b[0m                                  Traceback (most recent call last)",
      "\u001b[1;32m<ipython-input-8-45664ce9405a>\u001b[0m in \u001b[0;36m<module>\u001b[1;34m()\u001b[0m\n\u001b[1;32m----> 1\u001b[1;33m \u001b[0mm2\u001b[0m \u001b[1;33m=\u001b[0m \u001b[0mmav\u001b[0m\u001b[1;33m.\u001b[0m\u001b[0mdecode\u001b[0m\u001b[1;33m(\u001b[0m\u001b[0mb\u001b[0m\u001b[1;33m)\u001b[0m\u001b[1;33m\u001b[0m\u001b[0m\n\u001b[0m",
      "\u001b[1;32mD:\\Projet\\MAVlink_plug\\venv\\lib\\site-packages\\pymavlink\\dialects\\v10\\pixhawk.py\u001b[0m in \u001b[0;36mdecode\u001b[1;34m(self, msgbuf)\u001b[0m\n\u001b[0;32m   6270\u001b[0m                 \u001b[0mcrc2\u001b[0m \u001b[1;33m=\u001b[0m \u001b[0mx25crc\u001b[0m\u001b[1;33m(\u001b[0m\u001b[0mcrcbuf\u001b[0m\u001b[1;33m)\u001b[0m\u001b[1;33m\u001b[0m\u001b[0m\n\u001b[0;32m   6271\u001b[0m                 \u001b[1;32mif\u001b[0m \u001b[0mcrc\u001b[0m \u001b[1;33m!=\u001b[0m \u001b[0mcrc2\u001b[0m\u001b[1;33m.\u001b[0m\u001b[0mcrc\u001b[0m\u001b[1;33m:\u001b[0m\u001b[1;33m\u001b[0m\u001b[0m\n\u001b[1;32m-> 6272\u001b[1;33m                     \u001b[1;32mraise\u001b[0m \u001b[0mMAVError\u001b[0m\u001b[1;33m(\u001b[0m\u001b[1;34m'invalid MAVLink CRC in msgID %u 0x%04x should be 0x%04x'\u001b[0m \u001b[1;33m%\u001b[0m \u001b[1;33m(\u001b[0m\u001b[0mmsgId\u001b[0m\u001b[1;33m,\u001b[0m \u001b[0mcrc\u001b[0m\u001b[1;33m,\u001b[0m \u001b[0mcrc2\u001b[0m\u001b[1;33m.\u001b[0m\u001b[0mcrc\u001b[0m\u001b[1;33m)\u001b[0m\u001b[1;33m)\u001b[0m\u001b[1;33m\u001b[0m\u001b[0m\n\u001b[0m\u001b[0;32m   6273\u001b[0m \u001b[1;33m\u001b[0m\u001b[0m\n\u001b[0;32m   6274\u001b[0m                 \u001b[1;32mtry\u001b[0m\u001b[1;33m:\u001b[0m\u001b[1;33m\u001b[0m\u001b[0m\n",
      "\u001b[1;31mMAVError\u001b[0m: invalid MAVLink CRC in msgID 23 0xf3b1 should be 0x6d21"
     ]
    }
   ],
   "source": [
    "m2 = mav.decode(b)"
   ]
  },
  {
   "cell_type": "code",
   "execution_count": null,
   "metadata": {
    "collapsed": true
   },
   "outputs": [],
   "source": []
  },
  {
   "cell_type": "code",
   "execution_count": null,
   "metadata": {
    "collapsed": true
   },
   "outputs": [],
   "source": []
  }
 ],
 "metadata": {
  "kernelspec": {
   "display_name": "Python 2",
   "language": "python",
   "name": "python2"
  },
  "language_info": {
   "codemirror_mode": {
    "name": "ipython",
    "version": 2
   },
   "file_extension": ".py",
   "mimetype": "text/x-python",
   "name": "python",
   "nbconvert_exporter": "python",
   "pygments_lexer": "ipython2",
   "version": "2.7.9"
  }
 },
 "nbformat": 4,
 "nbformat_minor": 0
}
