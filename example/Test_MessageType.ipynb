{
 "cells": [
  {
   "cell_type": "code",
   "execution_count": 1,
   "metadata": {
    "collapsed": false
   },
   "outputs": [
    {
     "name": "stdout",
     "output_type": "stream",
     "text": [
      "Importing ardupilotmega\n"
     ]
    }
   ],
   "source": [
    "import mavlinkplug.Message"
   ]
  },
  {
   "cell_type": "code",
   "execution_count": 2,
   "metadata": {
    "collapsed": false
   },
   "outputs": [
    {
     "name": "stdout",
     "output_type": "stream",
     "text": [
      "[1, 2, 4, 8, 16]\n",
      "['\\x01', '\\x02', '\\x04', '\\x08', '\\x10']\n",
      "[<class 'mavlinkplug.Message.MAVLinkData'>, <class 'mavlinkplug.Message.MavCommandData'>, <class 'mavlinkplug.Message.KillData'>, <class 'mavlinkplug.Message.RawData'>, <class 'mavlinkplug.Message.LogData'>]\n"
     ]
    }
   ],
   "source": [
    "print(mavlinkplug.Message.TYPE._values)\n",
    "print(mavlinkplug.Message.TYPE._p_values)\n",
    "print(mavlinkplug.Message.TYPE._m_classes)"
   ]
  },
  {
   "cell_type": "code",
   "execution_count": 3,
   "metadata": {
    "collapsed": false
   },
   "outputs": [
    {
     "data": {
      "text/plain": [
       "mavlinkplug.Message.RawData"
      ]
     },
     "execution_count": 3,
     "metadata": {},
     "output_type": "execute_result"
    }
   ],
   "source": [
    "mavlinkplug.Message.TYPE.get_class_from_p_value('\\x08')"
   ]
  },
  {
   "cell_type": "code",
   "execution_count": 4,
   "metadata": {
    "collapsed": false
   },
   "outputs": [
    {
     "data": {
      "text/plain": [
       "mavlinkplug.Message.MAVLinkData"
      ]
     },
     "execution_count": 4,
     "metadata": {},
     "output_type": "execute_result"
    }
   ],
   "source": [
    "mavlinkplug.Message.TYPE.get_class_from_value(1)"
   ]
  },
  {
   "cell_type": "code",
   "execution_count": 5,
   "metadata": {
    "collapsed": false
   },
   "outputs": [
    {
     "data": {
      "text/plain": [
       "{'_PACK_FORMAT': '!B',\n",
       " '_names': ['ALL'],\n",
       " '_p_values': ['\\xff'],\n",
       " '_values': [255]}"
      ]
     },
     "execution_count": 5,
     "metadata": {},
     "output_type": "execute_result"
    }
   ],
   "source": [
    "mavlinkplug.Message.DESTINATION.__dict__"
   ]
  },
  {
   "cell_type": "code",
   "execution_count": 6,
   "metadata": {
    "collapsed": false
   },
   "outputs": [
    {
     "data": {
      "text/plain": [
       "DestinationItem(value=255, p_value='\\xff')"
      ]
     },
     "execution_count": 6,
     "metadata": {},
     "output_type": "execute_result"
    }
   ],
   "source": [
    "mavlinkplug.Message.DESTINATION.ALL"
   ]
  },
  {
   "cell_type": "code",
   "execution_count": null,
   "metadata": {
    "collapsed": true
   },
   "outputs": [],
   "source": []
  }
 ],
 "metadata": {
  "kernelspec": {
   "display_name": "Python 2",
   "language": "python",
   "name": "python2"
  },
  "language_info": {
   "codemirror_mode": {
    "name": "ipython",
    "version": 2
   },
   "file_extension": ".py",
   "mimetype": "text/x-python",
   "name": "python",
   "nbconvert_exporter": "python",
   "pygments_lexer": "ipython2",
   "version": "2.7.11"
  }
 },
 "nbformat": 4,
 "nbformat_minor": 0
}
