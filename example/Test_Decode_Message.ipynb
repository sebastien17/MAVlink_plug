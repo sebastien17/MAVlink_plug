{
 "cells": [
  {
   "cell_type": "code",
   "execution_count": 7,
   "metadata": {},
   "outputs": [],
   "source": [
    "import pymavlink.dialects.v10.ardupilotmega as mavlink\n",
    "import struct"
   ]
  },
  {
   "cell_type": "code",
   "execution_count": 8,
   "metadata": {},
   "outputs": [],
   "source": [
    "class fifo(object):\n",
    "    def __init__(self):\n",
    "        self.buf = []\n",
    "    def write(self, data):\n",
    "        self.buf += data\n",
    "        return len(data)\n",
    "    def read(self):\n",
    "        return self.buf.pop(0)\n",
    "f = fifo()"
   ]
  },
  {
   "cell_type": "code",
   "execution_count": 9,
   "metadata": {},
   "outputs": [],
   "source": [
    "mav = mavlink.MAVLink(f)"
   ]
  },
  {
   "cell_type": "code",
   "execution_count": 10,
   "metadata": {},
   "outputs": [
    {
     "data": {
      "text/plain": [
       "<pymavlink.dialects.v10.ardupilotmega.MAVLink at 0x3879350>"
      ]
     },
     "execution_count": 10,
     "output_type": "execute_result",
     "metadata": {}
    }
   ],
   "source": [
    "mav"
   ]
  },
  {
   "cell_type": "code",
   "execution_count": 11,
   "metadata": {},
   "outputs": [],
   "source": [
    "m = mav.param_set_encode(7, 1, \"WP_RADIUS\", 101, mavlink.MAV_PARAM_TYPE_REAL32)"
   ]
  },
  {
   "cell_type": "code",
   "execution_count": 12,
   "metadata": {},
   "outputs": [
    {
     "data": {
      "text/plain": [
       "{'_crc': None,\n",
       " '_fieldnames': ['target_system',\n",
       "  'target_component',\n",
       "  'param_id',\n",
       "  'param_value',\n",
       "  'param_type'],\n",
       " '_header': <pymavlink.dialects.v10.ardupilotmega.MAVLink_header at 0x3820550>,\n",
       " '_msgbuf': None,\n",
       " '_payload': None,\n",
       " '_type': 'PARAM_SET',\n",
       " 'param_id': 'WP_RADIUS',\n",
       " 'param_type': 9,\n",
       " 'param_value': 101,\n",
       " 'target_component': 1,\n",
       " 'target_system': 7}"
      ]
     },
     "execution_count": 12,
     "output_type": "execute_result",
     "metadata": {}
    }
   ],
   "source": [
    "m.__dict__"
   ]
  },
  {
   "cell_type": "code",
   "execution_count": 13,
   "metadata": {},
   "outputs": [],
   "source": [
    "b = m.pack(mav)"
   ]
  },
  {
   "cell_type": "code",
   "execution_count": 14,
   "metadata": {},
   "outputs": [
    {
     "data": {
      "text/plain": [
       "'\\xfe\\x17\\x00\\x00\\x00\\x17\\x00\\x00\\xcaB\\x07\\x01WP_RADIUS\\x00\\x00\\x00\\x00\\x00\\x00\\x00\\t\\xb1\\xf3'"
      ]
     },
     "execution_count": 14,
     "output_type": "execute_result",
     "metadata": {}
    }
   ],
   "source": [
    "b"
   ]
  },
  {
   "cell_type": "code",
   "execution_count": 13,
   "metadata": {},
   "outputs": [
    {
     "data": {
      "text/plain": [
       "'\\x17\\x00\\x00\\x00\\x17\\x00\\x00\\xcaB\\x07\\x01WP_RADIUS\\x00\\x00\\x00\\x00\\x00\\x00\\x00\\t'"
      ]
     },
     "execution_count": 13,
     "output_type": "execute_result",
     "metadata": {}
    }
   ],
   "source": [
    "_crcbuf = b[1:-2]\n",
    "_crcbuf"
   ]
  },
  {
   "cell_type": "code",
   "execution_count": 14,
   "metadata": {},
   "outputs": [
    {
     "data": {
      "text/plain": [
       "'\\x17\\x00\\x00\\x00\\x17\\x00\\x00\\xcaB\\x07\\x01WP_RADIUS\\x00\\x00\\x00\\x00\\x00\\x00\\x00\\t\\xa8'"
      ]
     },
     "execution_count": 14,
     "output_type": "execute_result",
     "metadata": {}
    }
   ],
   "source": [
    "_crcbuf = _crcbuf + struct.pack('B', 168)\n",
    "_crcbuf"
   ]
  },
  {
   "cell_type": "code",
   "execution_count": 15,
   "metadata": {},
   "outputs": [],
   "source": [
    "m2 = mav.decode(b)"
   ]
  },
  {
   "cell_type": "code",
   "execution_count": 17,
   "metadata": {},
   "outputs": [
    {
     "data": {
      "text/plain": [
       "{'_crc': 62385,\n",
       " '_fieldnames': ['target_system',\n",
       "  'target_component',\n",
       "  'param_id',\n",
       "  'param_value',\n",
       "  'param_type'],\n",
       " '_header': <pymavlink.dialects.v10.pixhawk.MAVLink_header at 0x34c4b30>,\n",
       " '_msgbuf': '\\xfe\\x17\\x00\\x00\\x00\\x17\\x00\\x00\\xcaB\\x07\\x01WP_RADIUS\\x00\\x00\\x00\\x00\\x00\\x00\\x00\\t\\xb1\\xf3',\n",
       " '_payload': '\\x00\\x00\\xcaB\\x07\\x01WP_RADIUS\\x00\\x00\\x00\\x00\\x00\\x00\\x00\\t',\n",
       " '_type': 'PARAM_SET',\n",
       " 'param_id': 'WP_RADIUS',\n",
       " 'param_type': 9,\n",
       " 'param_value': 101.0,\n",
       " 'target_component': 1,\n",
       " 'target_system': 7}"
      ]
     },
     "execution_count": 17,
     "output_type": "execute_result",
     "metadata": {}
    }
   ],
   "source": [
    "m2.__dict__"
   ]
  },
  {
   "cell_type": "code",
   "execution_count": null,
   "metadata": {},
   "outputs": [],
   "source": [
    "struct.pack()"
   ]
  }
 ],
 "metadata": {
  "kernelspec": {
   "display_name": "Python 2",
   "language": "python",
   "name": "python2"
  },
  "language_info": {
   "codemirror_mode": {
    "name": "ipython",
    "version": 2.0
   },
   "file_extension": ".py",
   "mimetype": "text/x-python",
   "name": "python",
   "nbconvert_exporter": "python",
   "pygments_lexer": "ipython2",
   "version": "2.7.9"
  }
 },
 "nbformat": 4,
 "nbformat_minor": 0
}