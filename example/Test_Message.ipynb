{
 "cells": [
  {
   "cell_type": "code",
   "execution_count": 1,
   "metadata": {
    "collapsed": false
   },
   "outputs": [],
   "source": [
    "import mavlinkplug.Message"
   ]
  },
  {
   "cell_type": "code",
   "execution_count": 8,
   "metadata": {
    "collapsed": true
   },
   "outputs": [],
   "source": [
    "#Test message\n",
    "byte_mav = b'\\xff\\x11\\x01\\x00\\x00\\x00\\x00\\x00\\x00\\x01\\x01\\xfe\\x17\\x00\\x00\\x00\\x17\\x00\\x00\\xcaB\\x07\\x01WP_RADIUS\\x00\\x00\\x00\\x00\\x00\\x00\\x00\\t\\xb1\\xf3'\n",
    "mav_mes = mavlinkplug.Message.MAVlinkPlugMessage(byte_mav)"
   ]
  },
  {
   "cell_type": "code",
   "execution_count": 9,
   "metadata": {
    "collapsed": false
   },
   "outputs": [
    {
     "data": {
      "text/plain": [
       "{'_MAVlinkPlugMessage__data': <pymavlink.dialects.v10.pixhawk.MAVLink_param_set_message at 0x3605310>,\n",
       " '_PlugMessage__header': <mavlinkplug.Message.PlugHeader at 0x3605170>,\n",
       " '_data': <pymavlink.dialects.v10.pixhawk.MAVLink_param_set_message at 0x3605310>}"
      ]
     },
     "execution_count": 9,
     "metadata": {},
     "output_type": "execute_result"
    }
   ],
   "source": [
    "mav_mes.__dict__"
   ]
  },
  {
   "cell_type": "code",
   "execution_count": 10,
   "metadata": {
    "collapsed": false
   },
   "outputs": [
    {
     "data": {
      "text/plain": [
       "255"
      ]
     },
     "execution_count": 10,
     "metadata": {},
     "output_type": "execute_result"
    }
   ],
   "source": [
    "mav_mes.header.destination"
   ]
  },
  {
   "cell_type": "code",
   "execution_count": 11,
   "metadata": {
    "collapsed": false
   },
   "outputs": [
    {
     "data": {
      "text/plain": [
       "17"
      ]
     },
     "execution_count": 11,
     "metadata": {},
     "output_type": "execute_result"
    }
   ],
   "source": [
    "mav_mes.header.source"
   ]
  },
  {
   "cell_type": "code",
   "execution_count": 12,
   "metadata": {
    "collapsed": false
   },
   "outputs": [
    {
     "data": {
      "text/plain": [
       "1"
      ]
     },
     "execution_count": 12,
     "metadata": {},
     "output_type": "execute_result"
    }
   ],
   "source": [
    "mav_mes.header.type"
   ]
  },
  {
   "cell_type": "code",
   "execution_count": 13,
   "metadata": {
    "collapsed": false
   },
   "outputs": [
    {
     "data": {
      "text/plain": [
       "257"
      ]
     },
     "execution_count": 13,
     "metadata": {},
     "output_type": "execute_result"
    }
   ],
   "source": [
    "mav_mes.header.timestamp"
   ]
  },
  {
   "cell_type": "code",
   "execution_count": 16,
   "metadata": {
    "collapsed": false
   },
   "outputs": [
    {
     "data": {
      "text/plain": [
       "{'_crc': 62385,\n",
       " '_fieldnames': ['target_system',\n",
       "  'target_component',\n",
       "  'param_id',\n",
       "  'param_value',\n",
       "  'param_type'],\n",
       " '_header': <pymavlink.dialects.v10.pixhawk.MAVLink_header at 0x36053d0>,\n",
       " '_msgbuf': '\\xfe\\x17\\x00\\x00\\x00\\x17\\x00\\x00\\xcaB\\x07\\x01WP_RADIUS\\x00\\x00\\x00\\x00\\x00\\x00\\x00\\t\\xb1\\xf3',\n",
       " '_payload': '\\x00\\x00\\xcaB\\x07\\x01WP_RADIUS\\x00\\x00\\x00\\x00\\x00\\x00\\x00\\t',\n",
       " '_type': 'PARAM_SET',\n",
       " 'param_id': 'WP_RADIUS',\n",
       " 'param_type': 9,\n",
       " 'param_value': 101.0,\n",
       " 'target_component': 1,\n",
       " 'target_system': 7}"
      ]
     },
     "execution_count": 16,
     "metadata": {},
     "output_type": "execute_result"
    }
   ],
   "source": [
    "mav_mes.data.__dict__"
   ]
  }
 ],
 "metadata": {
  "kernelspec": {
   "display_name": "Python 2",
   "language": "python",
   "name": "python2"
  },
  "language_info": {
   "codemirror_mode": {
    "name": "ipython",
    "version": 2
   },
   "file_extension": ".py",
   "mimetype": "text/x-python",
   "name": "python",
   "nbconvert_exporter": "python",
   "pygments_lexer": "ipython2",
   "version": "2.7.9"
  }
 },
 "nbformat": 4,
 "nbformat_minor": 0
}
